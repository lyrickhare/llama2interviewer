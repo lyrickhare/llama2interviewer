{
 "cells": [
  {
   "cell_type": "code",
   "execution_count": 8,
   "id": "0a783a54-acb9-4713-a330-838a8568a7e4",
   "metadata": {},
   "outputs": [],
   "source": [
    "import gpt4all"
   ]
  },
  {
   "cell_type": "code",
   "execution_count": 9,
   "id": "05a0994e-2b57-4960-b1b5-5d5a6c1ffbb5",
   "metadata": {},
   "outputs": [],
   "source": [
    "base = 'C:/Users/User/AppData'"
   ]
  },
  {
   "cell_type": "code",
   "execution_count": 10,
   "id": "8dd77159-97cb-47bc-90a1-2d5bfcfa3a91",
   "metadata": {},
   "outputs": [],
   "source": [
    "MODELPATH = \"C:/Users/User/AppData/Local/nomic.ai/GPT4All/ggml-mpt-7b-instruct.bin\""
   ]
  },
  {
   "cell_type": "code",
   "execution_count": 11,
   "id": "3bccab41-cc1d-475e-98b8-fb4ef4343cde",
   "metadata": {},
   "outputs": [
    {
     "name": "stdout",
     "output_type": "stream",
     "text": [
      "Found model file.\n"
     ]
    }
   ],
   "source": [
    "mpt = gpt4all.GPT4All(MODELPATH, model_type='mpt')"
   ]
  },
  {
   "cell_type": "code",
   "execution_count": 12,
   "id": "b264ceb9-0bd5-49b9-a9f6-63c75233c4dc",
   "metadata": {
    "tags": []
   },
   "outputs": [],
   "source": [
    "message = [{\"role\": \"user\", \"content\": \"Name 3 colors\"}]"
   ]
  },
  {
   "cell_type": "code",
   "execution_count": null,
   "id": "74415811-24ec-4eaf-84ac-195973396942",
   "metadata": {
    "jupyter": {
     "source_hidden": true
    },
    "tags": []
   },
   "outputs": [],
   "source": [
    "task = 'name three colors'"
   ]
  },
  {
   "cell_type": "code",
   "execution_count": null,
   "id": "65d573ce-84ad-431c-b77d-a4e6ff1ffe12",
   "metadata": {
    "jupyter": {
     "source_hidden": true
    },
    "tags": []
   },
   "outputs": [],
   "source": [
    "prompt = f\"\"\"\n",
    "### Instruction: \n",
    "The prompt below is a question to answer, a task to complete, or a conversation to respond to; decide which and write an appropriate response.\n",
    "### Prompt: \n",
    "{task}\n",
    "### Response:\n",
    "\"\"\""
   ]
  },
  {
   "cell_type": "code",
   "execution_count": null,
   "id": "ab1a237d-7ffe-409c-a11c-463e8ae54041",
   "metadata": {},
   "outputs": [
    {
     "name": "stdout",
     "output_type": "stream",
     "text": [
      "### Instruction: \n",
      "            The prompt below is a question to answer, a task to complete, or a conversation \n",
      "            to respond to; decide which and write an appropriate response.\n",
      "            \n",
      "### Prompt: \n",
      "Name 3 colors\n",
      "### Response:\n"
     ]
    }
   ],
   "source": [
    "response = mpt.chat_completion(message); response "
   ]
  },
  {
   "cell_type": "code",
   "execution_count": null,
   "id": "f2da0052-14bb-495a-8e48-fda851870332",
   "metadata": {},
   "outputs": [],
   "source": []
  }
 ],
 "metadata": {
  "kernelspec": {
   "display_name": "nonopenai",
   "language": "python",
   "name": "nonopenai"
  },
  "language_info": {
   "codemirror_mode": {
    "name": "ipython",
    "version": 3
   },
   "file_extension": ".py",
   "mimetype": "text/x-python",
   "name": "python",
   "nbconvert_exporter": "python",
   "pygments_lexer": "ipython3",
   "version": "3.9.12"
  }
 },
 "nbformat": 4,
 "nbformat_minor": 5
}
